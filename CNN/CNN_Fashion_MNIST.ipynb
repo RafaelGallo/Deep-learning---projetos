{
  "nbformat": 4,
  "nbformat_minor": 0,
  "metadata": {
    "colab": {
      "name": "CNN - Fashion MNIST.ipynb",
      "provenance": [],
      "private_outputs": true
    },
    "kernelspec": {
      "display_name": "Python 3",
      "language": "python",
      "name": "python3"
    },
    "language_info": {
      "codemirror_mode": {
        "name": "ipython",
        "version": 3
      },
      "file_extension": ".py",
      "mimetype": "text/x-python",
      "name": "python",
      "nbconvert_exporter": "python",
      "pygments_lexer": "ipython3",
      "version": "3.7.4"
    },
    "accelerator": "GPU"
  },
  "cells": [
    {
      "cell_type": "markdown",
      "metadata": {
        "id": "p8sGp4rElXlw"
      },
      "source": [
        "# Teste Aula 01\n",
        "\n",
        "O desafio dessa tarefa é aumentar  a precisão da rede neural e o objetivo é conseguir mais do que 87% de precisão na base de dados de teste. Abaixo algumas sugestões de melhoria:\n",
        "\n",
        "Treinar a rede neural por mais épocas\n",
        "\n",
        "Adicionar mais camadas escondidas\n",
        "\n",
        "Trocar o otimizador e a taxa de aprendizagem (learning rate)\n",
        "\n",
        "Trocar as funções de ativação"
      ]
    },
    {
      "cell_type": "code",
      "metadata": {
        "id": "fLRvw6ARJxAO"
      },
      "source": [
        "import pandas as pd\n",
        "import numpy as np\n",
        "import datetime\n",
        "import tensorflow as tf\n",
        "import matplotlib.pyplot as plt\n",
        "\n",
        "from tensorflow.keras.datasets import fashion_mnist\n",
        "from sklearn import svm, datasets\n",
        "from sklearn.metrics import confusion_matrix\n",
        "from sklearn.model_selection import train_test_split\n",
        "from sklearn.metrics import plot_confusion_matrix"
      ],
      "execution_count": null,
      "outputs": []
    },
    {
      "cell_type": "code",
      "metadata": {
        "id": "UjHJIY9LJ1bu"
      },
      "source": [
        "dados = (X_train, y_train), (X_test, y_test) = fashion_mnist.load_data()\n",
        "dados"
      ],
      "execution_count": null,
      "outputs": []
    },
    {
      "cell_type": "code",
      "metadata": {
        "id": "psQ3wlomJ1fl"
      },
      "source": [
        "X_train"
      ],
      "execution_count": null,
      "outputs": []
    },
    {
      "cell_type": "code",
      "metadata": {
        "id": "ue_bDadoJ1iu"
      },
      "source": [
        "y_train"
      ],
      "execution_count": null,
      "outputs": []
    },
    {
      "cell_type": "code",
      "metadata": {
        "id": "PYTV_vJ3J1pS"
      },
      "source": [
        "y_train"
      ],
      "execution_count": null,
      "outputs": []
    },
    {
      "cell_type": "code",
      "metadata": {
        "id": "tycVDOQTJ1l9"
      },
      "source": [
        "X_train[0]"
      ],
      "execution_count": null,
      "outputs": []
    },
    {
      "cell_type": "code",
      "metadata": {
        "id": "pIU4eHTdJ1sr"
      },
      "source": [
        "X_train = X_train / 255.0\n",
        "X_train"
      ],
      "execution_count": null,
      "outputs": []
    },
    {
      "cell_type": "code",
      "metadata": {
        "id": "vxPrlpAoKCpH"
      },
      "source": [
        "X_train[0]"
      ],
      "execution_count": null,
      "outputs": []
    },
    {
      "cell_type": "code",
      "metadata": {
        "id": "1Ll2M-tGJ1yZ"
      },
      "source": [
        "X_test = X_test / 255.0\n",
        "X_test"
      ],
      "execution_count": null,
      "outputs": []
    },
    {
      "cell_type": "code",
      "metadata": {
        "id": "8ZCw-2dEJ12D"
      },
      "source": [
        "X_test[0]"
      ],
      "execution_count": null,
      "outputs": []
    },
    {
      "cell_type": "code",
      "metadata": {
        "id": "8yIlH-hZJ15h"
      },
      "source": [
        "plt.figure(figsize=(50,50))\n",
        "\n",
        "plt.figure()\n",
        "plt.imshow(X_train[1])\n",
        "plt.colorbar()\n",
        "plt.grid(False)\n",
        "\n",
        "plt.show()"
      ],
      "execution_count": null,
      "outputs": []
    },
    {
      "cell_type": "code",
      "metadata": {
        "id": "imZa_xEKKMxP"
      },
      "source": [
        "plt.figure(figsize=(50, 50))\n",
        "\n",
        "plt.figure()\n",
        "plt.imshow(X_train[2])\n",
        "plt.colorbar()\n",
        "plt.grid(False)\n",
        "\n",
        "plt.show()"
      ],
      "execution_count": null,
      "outputs": []
    },
    {
      "cell_type": "code",
      "metadata": {
        "id": "NNGImwqkORKT"
      },
      "source": [
        "plt.figure(figsize=(50, 50))\n",
        "\n",
        "plt.figure()\n",
        "plt.imshow(X_train[5])\n",
        "plt.colorbar()\n",
        "plt.grid(False)\n",
        "\n",
        "plt.show()"
      ],
      "execution_count": null,
      "outputs": []
    },
    {
      "cell_type": "code",
      "metadata": {
        "id": "-Fs0xQV4KM0W"
      },
      "source": [
        "X_train.shape"
      ],
      "execution_count": null,
      "outputs": []
    },
    {
      "cell_type": "code",
      "metadata": {
        "id": "BOQowN9PKM3W"
      },
      "source": [
        "X_train = X_train.reshape(-1, 28*28)\n",
        "X_train"
      ],
      "execution_count": null,
      "outputs": []
    },
    {
      "cell_type": "code",
      "metadata": {
        "id": "LtspCzyNJ19J"
      },
      "source": [
        "X_test = X_test.reshape(-1, 28*28)\n",
        "X_test"
      ],
      "execution_count": null,
      "outputs": []
    },
    {
      "cell_type": "code",
      "metadata": {
        "id": "7C4IZO49J2Af"
      },
      "source": [
        "X_test.shape"
      ],
      "execution_count": null,
      "outputs": []
    },
    {
      "cell_type": "code",
      "metadata": {
        "id": "2E7JxViylXml"
      },
      "source": [
        "model = tf.keras.models.Sequential()\n",
        "model.add(tf.keras.layers.Dense(units=128, activation='relu', input_shape=(784, )))\n",
        "model.add(tf.keras.layers.Dropout(0.2))\n",
        "model.add(tf.keras.layers.Dense(units=128, activation='relu'))\n",
        "model.add(tf.keras.layers.Dropout(0.2))\n",
        "model.add(tf.keras.layers.Dense(units=128, activation='relu'))\n",
        "model.add(tf.keras.layers.Dropout(0.2))\n",
        "model.add(tf.keras.layers.Dense(units=128, activation='relu'))\n",
        "model.add(tf.keras.layers.Dense(units=10, activation='softmax'))\n",
        "model.summary()"
      ],
      "execution_count": null,
      "outputs": []
    },
    {
      "cell_type": "code",
      "metadata": {
        "id": "nPblA0_wnevT"
      },
      "source": [
        "model.compile(loss=\"sparse_categorical_crossentropy\", optimizer=\"Adam\", metrics=[\"sparse_categorical_accuracy\"])\n",
        "model.fit(X_train, y_train, epochs=55)"
      ],
      "execution_count": null,
      "outputs": []
    },
    {
      "cell_type": "code",
      "metadata": {
        "id": "kpavFsNlK0hs"
      },
      "source": [
        "test_loss, test_accuracy = model.evaluate(X_test, y_test)"
      ],
      "execution_count": null,
      "outputs": []
    },
    {
      "cell_type": "code",
      "metadata": {
        "id": "78-VrZxDK5Tg"
      },
      "source": [
        "print(\"Test accuracy:{}\".format(test_accuracy))"
      ],
      "execution_count": null,
      "outputs": []
    },
    {
      "cell_type": "code",
      "metadata": {
        "id": "dx2nY3dbK5Wn"
      },
      "source": [
        "test_loss"
      ],
      "execution_count": null,
      "outputs": []
    },
    {
      "cell_type": "markdown",
      "metadata": {
        "id": "M3B0iXeRlXmw"
      },
      "source": [
        "# Grafico curva - Roc"
      ]
    },
    {
      "cell_type": "code",
      "metadata": {
        "id": "Ad03QLsxla9O"
      },
      "source": [
        "df = pd.DataFrame(model.history.history)\n",
        "df"
      ],
      "execution_count": null,
      "outputs": []
    },
    {
      "cell_type": "code",
      "metadata": {
        "id": "fKjozhYflXmz"
      },
      "source": [
        "df[[\"loss\", \"sparse_categorical_accuracy\"]].plot()\n",
        "plt.show()"
      ],
      "execution_count": null,
      "outputs": []
    },
    {
      "cell_type": "code",
      "metadata": {
        "id": "u3dXprTNlXm2"
      },
      "source": [
        "df[[\"loss\", \"sparse_categorical_accuracy\"]].plot()\n",
        "plt.show()"
      ],
      "execution_count": null,
      "outputs": []
    },
    {
      "cell_type": "markdown",
      "metadata": {
        "id": "E7Jh_ZxPlXm5"
      },
      "source": [
        "# Matriz de confussão"
      ]
    },
    {
      "cell_type": "code",
      "metadata": {
        "id": "k13aNDejlXm5"
      },
      "source": [
        "X_train, X_test, y_train, y_test = train_test_split(X_test, y_test, random_state=0)\n",
        "classifier = svm.SVC(kernel='linear', C=0.01).fit(X_test, y_test)\n",
        "classifier"
      ],
      "execution_count": null,
      "outputs": []
    },
    {
      "cell_type": "code",
      "metadata": {
        "id": "jyIvcwtzlXm8"
      },
      "source": [
        "titles_options = [(\"Matrix de confusão\", None),\n",
        "                  (\"Normalizado\", 'true')]\n",
        "\n",
        "for title, normalize in titles_options:\n",
        "    disp = plot_confusion_matrix(classifier, X_test, y_test,\n",
        "                                 cmap=plt.cm.Blues,\n",
        "                                 normalize=normalize)\n",
        "    disp.ax_.set_title(title)\n",
        "    \n",
        "    print(\"\\n\")\n",
        "    print(title)\n",
        "    print(disp.confusion_matrix)\n",
        "\n",
        "plt.show()"
      ],
      "execution_count": null,
      "outputs": []
    },
    {
      "cell_type": "code",
      "metadata": {
        "id": "czS4I15BlXm-"
      },
      "source": [
        ""
      ],
      "execution_count": null,
      "outputs": []
    },
    {
      "cell_type": "code",
      "metadata": {
        "id": "T-Vzag8IlXnA"
      },
      "source": [
        ""
      ],
      "execution_count": null,
      "outputs": []
    }
  ]
}