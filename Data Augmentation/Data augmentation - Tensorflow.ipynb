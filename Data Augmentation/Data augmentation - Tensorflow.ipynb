{
 "cells": [
  {
   "cell_type": "markdown",
   "metadata": {},
   "source": [
    "# Data augmentation imagens com Tensorflow, Pil"
   ]
  },
  {
   "cell_type": "code",
   "execution_count": null,
   "metadata": {},
   "outputs": [],
   "source": [
    "import PIL\n",
    "import keras\n",
    "import numpy as np\n",
    "import tensorflow as tf\n",
    "import matplotlib.pyplot as plt\n",
    "\n",
    "from PIL import Image\n",
    "from IPython.display import Image as IImage, display"
   ]
  },
  {
   "cell_type": "markdown",
   "metadata": {},
   "source": [
    "**Imagens**"
   ]
  },
  {
   "cell_type": "markdown",
   "metadata": {},
   "source": [
    "**SP - Ubatuba**"
   ]
  },
  {
   "cell_type": "code",
   "execution_count": null,
   "metadata": {},
   "outputs": [],
   "source": [
    "phot = PIL.Image.open(\"05.jpg\")\n",
    "phot_array = np.array(phot)\n",
    "phot.load()"
   ]
  },
  {
   "cell_type": "code",
   "execution_count": null,
   "metadata": {},
   "outputs": [],
   "source": [
    "phot_array.shape"
   ]
  },
  {
   "cell_type": "code",
   "execution_count": null,
   "metadata": {},
   "outputs": [],
   "source": [
    "PIL.Image.fromarray(phot_array)"
   ]
  },
  {
   "cell_type": "markdown",
   "metadata": {},
   "source": [
    "**Operações com imagens**"
   ]
  },
  {
   "cell_type": "code",
   "execution_count": null,
   "metadata": {},
   "outputs": [],
   "source": [
    "image = tf.image.random_flip_left_right(phot_array)\n",
    "\n",
    "PIL.Image.fromarray(image.numpy())"
   ]
  },
  {
   "cell_type": "code",
   "execution_count": null,
   "metadata": {},
   "outputs": [],
   "source": [
    "#Brilho\n",
    "\n",
    "image_bri = tf.image.adjust_brightness(phot_array, delta = 0.2)\n",
    "PIL.Image.fromarray(image_bri.numpy())"
   ]
  },
  {
   "cell_type": "code",
   "execution_count": null,
   "metadata": {},
   "outputs": [],
   "source": [
    "#Rendimensionamento\n",
    "\n",
    "image_re = tf.image.resize(phot_array, size = (1000, 800), preserve_aspect_ratio = True)\n",
    "image_re = tf.cast(image_re, tf.uint8)\n",
    "PIL.Image.fromarray(image_re.numpy())"
   ]
  },
  {
   "cell_type": "code",
   "execution_count": null,
   "metadata": {},
   "outputs": [],
   "source": [
    "#Constraste\n",
    "fig = plt.figure(figsize=(20, 10))\n",
    "\n",
    "image_const = tf.image.adjust_contrast(phot_array, contrast_factor = 2.0)\n",
    "PIL.Image.fromarray(image_const.numpy())"
   ]
  },
  {
   "cell_type": "markdown",
   "metadata": {},
   "source": [
    "# SP - Paulista"
   ]
  },
  {
   "cell_type": "code",
   "execution_count": null,
   "metadata": {},
   "outputs": [],
   "source": [
    "phot_2 = PIL.Image.open(\"09.jpg\")\n",
    "phot_array_2 = np.array(phot_2)\n",
    "phot_2.load()\n",
    "\n",
    "print(\"Foto Original\")\n",
    "PIL.Image.fromarray(phot_array_2)"
   ]
  },
  {
   "cell_type": "code",
   "execution_count": null,
   "metadata": {},
   "outputs": [],
   "source": [
    "fig = plt.figure(figsize=(20, 10))\n",
    "\n",
    "image_const_2 = tf.image.adjust_contrast(phot_array_2, contrast_factor = 1.7)\n",
    "PIL.Image.fromarray(image_const_2.numpy())"
   ]
  },
  {
   "cell_type": "markdown",
   "metadata": {},
   "source": [
    "**SP - Guarujá** "
   ]
  },
  {
   "cell_type": "code",
   "execution_count": null,
   "metadata": {},
   "outputs": [],
   "source": [
    "phot_3 = PIL.Image.open(\"08.jpg\")\n",
    "phot_array_3 = np.array(phot_3)\n",
    "phot_3.load()\n",
    "\n",
    "print(\"Foto Original\")\n",
    "PIL.Image.fromarray(phot_array_3)"
   ]
  },
  {
   "cell_type": "code",
   "execution_count": null,
   "metadata": {},
   "outputs": [],
   "source": [
    "fig = plt.figure(figsize=(20, 10))\n",
    "\n",
    "image_const_3 = tf.image.adjust_contrast(phot_array_3, contrast_factor = 1.4)\n",
    "PIL.Image.fromarray(image_const_3.numpy())"
   ]
  },
  {
   "cell_type": "markdown",
   "metadata": {},
   "source": [
    "# Conclusão"
   ]
  },
  {
   "cell_type": "markdown",
   "metadata": {},
   "source": [
    "Imagem aumentada usando a biblioteca Tensorflow dando aumento da imagem e brilho e constaste."
   ]
  },
  {
   "cell_type": "code",
   "execution_count": null,
   "metadata": {},
   "outputs": [],
   "source": []
  }
 ],
 "metadata": {
  "kernelspec": {
   "display_name": "Python 3",
   "language": "python",
   "name": "python3"
  },
  "language_info": {
   "codemirror_mode": {
    "name": "ipython",
    "version": 3
   },
   "file_extension": ".py",
   "mimetype": "text/x-python",
   "name": "python",
   "nbconvert_exporter": "python",
   "pygments_lexer": "ipython3",
   "version": "3.7.4"
  }
 },
 "nbformat": 4,
 "nbformat_minor": 2
}
